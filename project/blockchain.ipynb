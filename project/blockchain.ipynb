{
 "cells": [
  {
   "cell_type": "markdown",
   "metadata": {},
   "source": [
    "# Simulating blockchain for pharamceutical supply chain "
   ]
  },
  {
   "cell_type": "code",
   "execution_count": 137,
   "metadata": {},
   "outputs": [],
   "source": [
    "#--------------------------------------------------------------------------------------------------\n",
    "# Name:\t\tblockchain\n",
    "# Purpose: Project Simulation Code\n",
    "# \n",
    "# Author: \tSaurabh Kumar\n",
    "# \n",
    "# Created:\t12/1/2017\n",
    "# License: \t<your license>\n",
    "#--------------------------------------------------------------------------------------------------\n",
    "\n",
    "#import required libraries\n",
    "import hashlib as hasher\n",
    "import datetime as date\n",
    "import numpy as np\n",
    "import time\n",
    "import pandas as pd\n",
    "import random\n",
    "from datetime import datetime\n",
    "from datetime import timedelta\n",
    "import matplotlib.pyplot as plt\n",
    "%matplotlib inline"
   ]
  },
  {
   "cell_type": "markdown",
   "metadata": {},
   "source": [
    "### Define a blockchain class"
   ]
  },
  {
   "cell_type": "code",
   "execution_count": 138,
   "metadata": {},
   "outputs": [],
   "source": [
    "class Block:\n",
    "    def __init__(self, index, timestamp, data, previous_hash):\n",
    "        self.index = index\n",
    "        self.timestamp = timestamp\n",
    "        self.data = data\n",
    "        self.previous_hash = previous_hash\n",
    "        self.hash = self.hash_block()\n",
    "\n",
    "    def hash_block(self):\n",
    "        sha = hasher.sha256()\n",
    "        sha.update(str(self.index).encode('utf-8') + str(self.timestamp).encode('utf-8') + str(self.data).encode('utf-8') + str(self.previous_hash).encode('utf-8'))\n",
    "        return sha.hexdigest()"
   ]
  },
  {
   "cell_type": "markdown",
   "metadata": {},
   "source": [
    "### Function to define genesis block"
   ]
  },
  {
   "cell_type": "code",
   "execution_count": 139,
   "metadata": {},
   "outputs": [],
   "source": [
    "def create_genesis_block():\n",
    "    data = ['rawmaterial_supplier','manufacturer_id','manufacturer_t1','manufacturer_t2','smanufacturer_id','smanufacturer_t1','smanufacturer_t2','warehouse_id','warehouse_t1','warehouse_t2','distributer_id','distributer_t1','distributer_t2','pharmacy_id','pharmacy_t1','pharmacy_t2','prescriber_id','patient_id','zipcode','pharmacy_returntime','distributer_returntime', 'warehouse_returntime']\n",
    "    return Block(0, date.datetime.now(), data, \"0\")\n"
   ]
  },
  {
   "cell_type": "markdown",
   "metadata": {},
   "source": [
    "### Funtion to add a new block"
   ]
  },
  {
   "cell_type": "code",
   "execution_count": 140,
   "metadata": {},
   "outputs": [],
   "source": [
    "def next_block(last_block,data):\n",
    "    \n",
    "    this_index = last_block.index + 1\n",
    "    this_timestamp = date.datetime.now()\n",
    "    #this_data = \"Hey! I'm block \" + str(this_index)\n",
    "    #d = pd.DataFrame([[1,2,3],[2,4,5]])\n",
    "    #d.columns = ['a','b','c']\n",
    "    this_data = data\n",
    "    this_hash = last_block.hash\n",
    "    \n",
    "    return Block(this_index, this_timestamp, this_data, this_hash)"
   ]
  },
  {
   "cell_type": "code",
   "execution_count": 141,
   "metadata": {},
   "outputs": [],
   "source": [
    "# Create the blockchain and add the genesis block\n",
    "blockchain = [create_genesis_block()]\n",
    "previous_block = blockchain[0]\n",
    "\n",
    "time1 = date.datetime.now()\n",
    "\n",
    "# Number of blocks to add\n",
    "num_of_blocks_to_add = 2000\n",
    "\n",
    "# Data Points\n",
    "hashes = []"
   ]
  },
  {
   "cell_type": "markdown",
   "metadata": {},
   "source": [
    "### Function to create data "
   ]
  },
  {
   "cell_type": "code",
   "execution_count": 142,
   "metadata": {},
   "outputs": [],
   "source": [
    "data = ['rawmaterial_supplier','manufacturer_id','manufacturer_t1','manufacturer_t2','smanufacturer_id','smanufacturer_t1','smanufacturer_t2','warehouse_id','warehouse_t1','warehouse_t2','distributer_id','distributer_t1','distributer_t2','pharmacy_id','pharmacy_t1','pharmacy_t2','prescriber_id','patient_id','zipcode','pharmacy_returntime','distributer_returntime', 'warehouse_returntime']\n",
    "supply_chain_data = pd.DataFrame(columns= data)\n",
    "\n",
    "def create_data(supply_chain_data):\n",
    "    s = np.random.normal(2, .25, 2000)\n",
    "    r_id = np.random.normal(10, 1.25, 2000)\n",
    "    d_id = np.random.normal(10, 1.25, 2000)\n",
    "    rp_id = np.random.normal(10, 2, 2000)\n",
    "    pres_id = np.random.normal(100, 10, 2000)\n",
    "\n",
    "    timestamp = date.datetime.now() - timedelta(days=5000)\n",
    "\n",
    "\n",
    "    for i in range(num_of_blocks_to_add):\n",
    "\n",
    "\n",
    "        # Condition for Raw Material Supplier\n",
    "        if r_id[i] < 9:\n",
    "            rawmaterial_supplier = 'raw1'\n",
    "        elif r_id[i] > 11:\n",
    "            rawmaterial_supplier = 'raw3'\n",
    "        else:\n",
    "            rawmaterial_supplier = 'raw2'\n",
    "\n",
    "        # Condition for Primary Manufacturer\n",
    "        if (rawmaterial_supplier == 'raw1' or rawmaterial_supplier == 'raw2'):\n",
    "            manufacturer_id = 'm1'\n",
    "        else:\n",
    "            manufacturer_id = 'm2'\n",
    "\n",
    "        # Secondary Manufacturer and Warehouse\n",
    "        smanufacturer_id = 'sm1'\n",
    "        warehouse_id = 'w1'\n",
    "\n",
    "        # Condition for Distributor\n",
    "        if d_id[i] < 11:\n",
    "            distributer_id = 'd1'\n",
    "        else:\n",
    "            distributer_id = 'd2'\n",
    "\n",
    "        # Condition for Pharmacy\n",
    "        if distributer_id == 'd2':\n",
    "            pharmacy_id = 'hp1'\n",
    "            zipcode = 'zip1'\n",
    "        else:\n",
    "            if rp_id[i] < 9.8:\n",
    "                pharmacy_id = 'rp1'\n",
    "                zipcode = 'zip2'\n",
    "            else:\n",
    "                pharmacy_id = 'rp2'\n",
    "                zipcode = 'zip3'\n",
    "\n",
    "\n",
    "        # Condition for Presciber\n",
    "        if pres_id[i] < 100:\n",
    "            prescriber_id = 'pres1'\n",
    "        elif pres_id[i] >104:\n",
    "            prescriber_id = 'pres2'\n",
    "        else:\n",
    "            prescriber_id = 'pres3'\n",
    "\n",
    "        # Condition for Patient\n",
    "        patient_id = random.randint(1,99)\n",
    "\n",
    "\n",
    "        # Timestamp     \n",
    "        timestamp = timestamp + timedelta(days=s[i])\n",
    "\n",
    "        t2 = np.random.normal(30, 4, 20)\n",
    "        t1 = np.random.normal(10, 2, 20)\n",
    "        t2_1000 = np.random.normal(12, 2, 20)\n",
    "\n",
    "        # Calculating stock and release time for manufacturer\n",
    "        manufacturer_t1 = timestamp + timedelta(days=t1[1])\n",
    "        manufacturer_t2 = manufacturer_t1 + timedelta(days=t2[1])\n",
    "\n",
    "        # Calculating stock and release time for secondary manufacturer\n",
    "        smanufacturer_t1 = manufacturer_t2 + timedelta(days=t1[6])\n",
    "        smanufacturer_t2 = smanufacturer_t1 + timedelta(days=t2[6])\n",
    "\n",
    "        # Calculating stock and release time for warehouse\n",
    "        warehouse_t1 = smanufacturer_t2 + timedelta(days=t1[11])\n",
    "        warehouse_t2 = warehouse_t1 + timedelta(days=t2[1])\n",
    "\n",
    "\n",
    "        if i < 1000:\n",
    "\n",
    "            distributer_t1 = warehouse_t2 + timedelta(days=t1[14])\n",
    "            distributer_t2 = distributer_t1 + timedelta(days=(2 * t1[14]))\n",
    "\n",
    "            pharmacy_t1 = distributer_t2 + timedelta(days=t1[8])\n",
    "            pharmacy_t2 = pharmacy_t1 + timedelta(days=t2[9])\n",
    "\n",
    "        else:\n",
    "            distributer_t1 = warehouse_t2 + timedelta(days=t1[16])\n",
    "            distributer_t2 = distributer_t1 + timedelta(days=t1[16])\n",
    "\n",
    "            pharmacy_t1 = distributer_t2 + timedelta(days=t1[9])\n",
    "            pharmacy_t2 = pharmacy_t1 + timedelta(days=(t2[7]/2))\n",
    "\n",
    "        if i%133 == 0:\n",
    "            patient_id = 0\n",
    "            prescriber_id = ''\n",
    "            zipcode = ''\n",
    "            pharmacy_t2 = None\n",
    "            retailer_returntime = pharmacy_t1 + timedelta(days=100)\n",
    "            distributer_returntime = retailer_returntime + timedelta(days=t2[17])\n",
    "            warehouse_returntime = distributer_returntime + timedelta(days=t2[19])\n",
    "        else:\n",
    "            retailer_returntime = None\n",
    "            distributer_returntime = None\n",
    "            warehouse_returntime = None\n",
    "\n",
    "        supply_chain_data.loc[i] = [rawmaterial_supplier,manufacturer_id,manufacturer_t1,manufacturer_t2,smanufacturer_id,smanufacturer_t1,smanufacturer_t2,warehouse_id,warehouse_t1,warehouse_t2,distributer_id,distributer_t1,distributer_t2,pharmacy_id,pharmacy_t1,pharmacy_t2,prescriber_id,patient_id,zipcode,retailer_returntime,distributer_returntime,warehouse_returntime]\n",
    "    \n",
    "    print (\"Supply Chain Data Created\")\n",
    "    return supply_chain_data"
   ]
  },
  {
   "cell_type": "code",
   "execution_count": 143,
   "metadata": {},
   "outputs": [
    {
     "name": "stdout",
     "output_type": "stream",
     "text": [
      "Supply Chain Data Created\n"
     ]
    }
   ],
   "source": [
    "supply_chain_data = create_data(supply_chain_data)\n",
    "supply_chain_data.to_csv(\"supply_chain_data.csv\",index=False)"
   ]
  },
  {
   "cell_type": "markdown",
   "metadata": {},
   "source": [
    "### Function to add blocks to the blockchain"
   ]
  },
  {
   "cell_type": "code",
   "execution_count": 144,
   "metadata": {},
   "outputs": [
    {
     "name": "stdout",
     "output_type": "stream",
     "text": [
      "Blocks Added\n"
     ]
    }
   ],
   "source": [
    "def add_block(supply_chain_data,previous_block,hashes,num_of_blocks_to_add):\n",
    "    \n",
    "    s = np.random.normal(0.125, .25, num_of_blocks_to_add)\n",
    "    \n",
    "    # Add blocks to the chain\n",
    "    for i in range(0, num_of_blocks_to_add):\n",
    "        block_to_add = next_block(previous_block,supply_chain_data.loc[i])\n",
    "        blockchain.append(block_to_add)\n",
    "        previous_block = block_to_add\n",
    "\n",
    "        hashes.append(block_to_add.hash)\n",
    "\n",
    "        if (s[i]<0):\n",
    "            s[i] = 0.00028 * i\n",
    "        time.sleep(s[i])\n",
    "    print (\"Blocks Added\")\n",
    "    \n",
    "add_block(supply_chain_data,previous_block,hashes,num_of_blocks_to_add)"
   ]
  },
  {
   "cell_type": "code",
   "execution_count": 145,
   "metadata": {},
   "outputs": [
    {
     "name": "stdout",
     "output_type": "stream",
     "text": [
      "('BlockChain class\\n', [<__main__.Block instance at 0x7fb24c088e60>, <__main__.Block instance at 0x7fb24c8fd830>, <__main__.Block instance at 0x7fb24c493e18>, <__main__.Block instance at 0x7fb255c765a8>])\n",
      "BlockChain data for 1012th block\n",
      "\n",
      "rawmaterial_supplier                            raw2\n",
      "manufacturer_id                                   m1\n",
      "manufacturer_t1           2009-11-01 10:08:31.834318\n",
      "manufacturer_t2           2009-12-01 16:44:51.044222\n",
      "smanufacturer_id                                 sm1\n",
      "smanufacturer_t1          2009-12-10 20:36:37.197505\n",
      "smanufacturer_t2          2010-01-09 13:55:05.928505\n",
      "warehouse_id                                      w1\n",
      "warehouse_t1              2010-01-24 04:32:41.044488\n",
      "warehouse_t2              2010-02-23 11:09:00.254392\n",
      "distributer_id                                    d1\n",
      "distributer_t1            2010-03-06 01:05:32.573576\n",
      "distributer_t2            2010-03-16 15:02:04.892760\n",
      "pharmacy_id                                      rp1\n",
      "pharmacy_t1               2010-03-27 02:27:27.136714\n",
      "pharmacy_t2               2010-04-09 17:46:57.827123\n",
      "prescriber_id                                  pres3\n",
      "patient_id                                        19\n",
      "zipcode                                         zip2\n",
      "pharmacy_returntime                             None\n",
      "distributer_returntime                          None\n",
      "warehouse_returntime                            None\n",
      "Name: 1011, dtype: object\n"
     ]
    }
   ],
   "source": [
    "print (\"BlockChain class\\n\", blockchain[0:4])\n",
    "print (\"BlockChain data for 1012th block\\n\")\n",
    "print (blockchain[1012].data)"
   ]
  },
  {
   "cell_type": "markdown",
   "metadata": {},
   "source": [
    "### Creating hash table for security"
   ]
  },
  {
   "cell_type": "code",
   "execution_count": 146,
   "metadata": {
    "scrolled": true
   },
   "outputs": [
    {
     "name": "stdout",
     "output_type": "stream",
     "text": [
      "Hash Table created\n"
     ]
    }
   ],
   "source": [
    "creation_time = [i.timestamp for i in blockchain]\n",
    "block_index = [i.index for i in blockchain]\n",
    "previous_hash = [i.previous_hash for i in blockchain]\n",
    "\n",
    "df1 = pd.DataFrame([block_index,previous_hash,creation_time])\n",
    "df1 = df1.transpose()\n",
    "\n",
    "df1.columns = [\"block_index\",\"previous_hash\",\"creation_time\"]\n",
    "df1.to_csv(\"hash_table.csv\",index=False)\n",
    "print (\"Hash Table created\")"
   ]
  },
  {
   "cell_type": "markdown",
   "metadata": {},
   "source": [
    "### Function to Update a block"
   ]
  },
  {
   "cell_type": "code",
   "execution_count": 147,
   "metadata": {},
   "outputs": [],
   "source": [
    "def block_update(block_id, key, timestamp):\n",
    "    \n",
    "    print (\"Hash Key for 1500 block: \",blockchain[block_id].previous_hash)\n",
    "    \n",
    "    if (blockchain[block_id].previous_hash == key):\n",
    "        blockchain[block_id].timestamp = timestamp\n",
    "        print (\"Block #{} has been updated\".format(block_id))\n",
    "        \n",
    "    else:\n",
    "        print (\"The key did not match\")\n"
   ]
  },
  {
   "cell_type": "code",
   "execution_count": 148,
   "metadata": {},
   "outputs": [
    {
     "name": "stdout",
     "output_type": "stream",
     "text": [
      "('Key from hash table: ', '6754a2e910ceabe174972d553bff5bbe9a7ec7743c962bef95bae46a5345d324')\n",
      "('Hash Key for 1500 block: ', '6754a2e910ceabe174972d553bff5bbe9a7ec7743c962bef95bae46a5345d324')\n",
      "Block #1500 has been updated\n"
     ]
    }
   ],
   "source": [
    "# Reading the hash table before updating\n",
    "hash_table = pd.read_csv(\"hash_table.csv\")\n",
    "\n",
    "#Update the timestamp for 1500th block\n",
    "#Calling the block update function\n",
    "block_id = 1500\n",
    "key = hash_table.previous_hash[1500]\n",
    "timestamp = date.datetime.now() - timedelta(days=2)\n",
    "\n",
    "print (\"Key from hash table: \", key)\n",
    "block_update(block_id, key, timestamp)"
   ]
  },
  {
   "cell_type": "markdown",
   "metadata": {},
   "source": [
    "## Analysis"
   ]
  },
  {
   "cell_type": "markdown",
   "metadata": {},
   "source": [
    "#### 1. Finding Number of Opioid Batches sold Each Year"
   ]
  },
  {
   "cell_type": "code",
   "execution_count": 149,
   "metadata": {},
   "outputs": [],
   "source": [
    "sales_yearly = []\n",
    "count = 0\n",
    "for i in supply_chain_data.pharmacy_t2:\n",
    "    if i:\n",
    "        #print i.date\n",
    "        sales_yearly.append(str(i.year))\n",
    "        count=count+1\n",
    "    else:\n",
    "        sales_yearly.append('')\n",
    "        count=count+1\n",
    "        \n"
   ]
  },
  {
   "cell_type": "code",
   "execution_count": 150,
   "metadata": {},
   "outputs": [
    {
     "data": {
      "image/png": "[encoded data removed]",
      "text/plain": [
       "<matplotlib.figure.Figure at 0x7fb255172f50>"
      ]
     },
     "metadata": {},
     "output_type": "display_data"
    }
   ],
   "source": [
    "plt.hist(sales_yearly,bins = 13, rwidth = 0.75,color = \"skyblue\")\n",
    "plt.title('Number of Opioid Batches sold Each Year')\n",
    "plt.xlabel('Year')\n",
    "plt.ylabel('Count')\n",
    "plt.savefig('./images/yearly_batch_count_hist.png')\n",
    "plt.show()\n",
    "#sales_yearly.count('2014')\n"
   ]
  },
  {
   "cell_type": "markdown",
   "metadata": {},
   "source": [
    "#### 2. Finding Number of Prescriptions by each Doctor/Physician"
   ]
  },
  {
   "cell_type": "code",
   "execution_count": 151,
   "metadata": {},
   "outputs": [
    {
     "data": {
      "image/png": "[encoded data removed]",
      "text/plain": [
       "<matplotlib.figure.Figure at 0x7fb2550ff5d0>"
      ]
     },
     "metadata": {},
     "output_type": "display_data"
    }
   ],
   "source": [
    "plt.hist(supply_chain_data.prescriber_id,bins = 4, rwidth = 0.75,color = \"purple\")\n",
    "plt.title('Number of Prescriptions by each Doctor/Physician')\n",
    "plt.xlabel('Doctor Id')\n",
    "plt.ylabel('Count')\n",
    "plt.savefig('./images/prescriptions_hist.png')\n",
    "plt.show()"
   ]
  },
  {
   "cell_type": "markdown",
   "metadata": {},
   "source": [
    "#### 3. Number of Buyers by Each Zipcode"
   ]
  },
  {
   "cell_type": "code",
   "execution_count": 152,
   "metadata": {},
   "outputs": [
    {
     "data": {
      "image/png": "[encoded data removed]",
      "text/plain": [
       "<matplotlib.figure.Figure at 0x7fb2551078d0>"
      ]
     },
     "metadata": {},
     "output_type": "display_data"
    }
   ],
   "source": [
    "plt.hist(supply_chain_data.zipcode,bins = 4, rwidth = 0.75,color = \"yellowgreen\")\n",
    "plt.title('Number of Buyers by Each Zipcode')\n",
    "plt.xlabel('Zipcode')\n",
    "plt.ylabel('Count')\n",
    "plt.savefig('./images/zipcode_hist.png')\n",
    "plt.show()"
   ]
  },
  {
   "cell_type": "markdown",
   "metadata": {},
   "source": [
    "#### 4. Average Number of Days Opioid Stocked"
   ]
  },
  {
   "cell_type": "code",
   "execution_count": 153,
   "metadata": {},
   "outputs": [],
   "source": [
    "def avg(a):\n",
    "    return (sum(a)/len(a))\n",
    "\n",
    "manufacturer_days = []\n",
    "smanufacturer_days = []\n",
    "pharmacy_days = []\n",
    "warehouse_days = []\n",
    "distributer_days = []\n",
    "\n",
    "for i in range(2000):\n",
    "    \n",
    "    distributer_days.append((supply_chain_data.distributer_t2[1] - supply_chain_data.distributer_t1[1]).days)\n",
    "    manufacturer_days.append((supply_chain_data.manufacturer_t2[1] - supply_chain_data.manufacturer_t1[1]).days)\n",
    "    smanufacturer_days.append((supply_chain_data.smanufacturer_t2[1] - supply_chain_data.smanufacturer_t1[1]).days)\n",
    "    pharmacy_days.append((supply_chain_data.pharmacy_t2[1] - supply_chain_data.pharmacy_t1[1]).days)\n",
    "    warehouse_days.append((supply_chain_data.warehouse_t2[1] - supply_chain_data.warehouse_t1[1]).days)\n"
   ]
  },
  {
   "cell_type": "code",
   "execution_count": 154,
   "metadata": {},
   "outputs": [
    {
     "data": {
      "image/png": "[encoded data removed]",
      "text/plain": [
       "<matplotlib.figure.Figure at 0x7fb255695150>"
      ]
     },
     "metadata": {},
     "output_type": "display_data"
    }
   ],
   "source": [
    "avg_list = [avg(manufacturer_days), avg(smanufacturer_days),avg(warehouse_days),avg(distributer_days),avg(pharmacy_days)]\n",
    "plt.title('Average Number of Days Opioid Stocked')\n",
    "plt.xlabel('Stages')\n",
    "plt.xticks(range(5),['manufacturer', 'smanufacturer', 'warehouse', 'distributer', 'pharmacy'])\n",
    "plt.ylabel('Count')\n",
    "plt.plot(avg_list,color = \"green\")\n",
    "plt.savefig('./images/average_hist.png')\n",
    "plt.show()"
   ]
  },
  {
   "cell_type": "code",
   "execution_count": 155,
   "metadata": {},
   "outputs": [],
   "source": [
    "time2 = date.datetime.now()\n",
    "min = (time2-time1).total_seconds()/60.0"
   ]
  },
  {
   "cell_type": "code",
   "execution_count": 156,
   "metadata": {},
   "outputs": [
    {
     "name": "stdout",
     "output_type": "stream",
     "text": [
      "('Runtime in minutes: ', 9.166761166666667)\n"
     ]
    }
   ],
   "source": [
    "print (\"Runtime in minutes: \", min)"
   ]
  },
  {
   "cell_type": "code",
   "execution_count": null,
   "metadata": {},
   "outputs": [],
   "source": []
  },
  {
   "cell_type": "code",
   "execution_count": null,
   "metadata": {},
   "outputs": [],
   "source": []
  }
 ],
 "metadata": {
  "kernelspec": {
   "display_name": "Python 2",
   "language": "python",
   "name": "python2"
  },
  "language_info": {
   "codemirror_mode": {
    "name": "ipython",
    "version": 2
   },
   "file_extension": ".py",
   "mimetype": "text/x-python",
   "name": "python",
   "nbconvert_exporter": "python",
   "pygments_lexer": "ipython2",
   "version": "2.7.12"
  }
 },
 "nbformat": 4,
 "nbformat_minor": 2
}
