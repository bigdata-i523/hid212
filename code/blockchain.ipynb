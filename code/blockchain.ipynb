{
 "cells": [
  {
   "cell_type": "markdown",
   "metadata": {},
   "source": [
    "# Simulating blockchain for pharamceutical supply chain "
   ]
  },
  {
   "cell_type": "code",
   "execution_count": 8,
   "metadata": {},
   "outputs": [],
   "source": [
    "#--------------------------------------------------------------------------------------------------\n",
    "# Name:\t\tblockchain\n",
    "# Purpose: Project Simulation Code\n",
    "# \n",
    "# Author: \tSaurabh Kumar\n",
    "# \n",
    "# Created:\t12/1/2017\n",
    "# License: \t<your license>\n",
    "#--------------------------------------------------------------------------------------------------\n",
    "\n",
    "#import required libraries\n",
    "import hashlib as hasher\n",
    "import datetime as date\n",
    "import numpy as np\n",
    "import time\n",
    "import pandas as pd\n",
    "import random\n",
    "from datetime import datetime\n",
    "from datetime import timedelta"
   ]
  },
  {
   "cell_type": "markdown",
   "metadata": {},
   "source": [
    "### Define a blockchain class"
   ]
  },
  {
   "cell_type": "code",
   "execution_count": 9,
   "metadata": {},
   "outputs": [],
   "source": [
    "class Block:\n",
    "    def __init__(self, index, timestamp, data, previous_hash):\n",
    "        self.index = index\n",
    "        self.timestamp = timestamp\n",
    "        self.data = data\n",
    "        self.previous_hash = previous_hash\n",
    "        self.hash = self.hash_block()\n",
    "\n",
    "    def hash_block(self):\n",
    "        sha = hasher.sha256()\n",
    "        sha.update(str(self.index).encode('utf-8') + str(self.timestamp).encode('utf-8') + str(self.data).encode('utf-8') + str(self.previous_hash).encode('utf-8'))\n",
    "        return sha.hexdigest()"
   ]
  },
  {
   "cell_type": "markdown",
   "metadata": {},
   "source": [
    "### Function to define genesis block"
   ]
  },
  {
   "cell_type": "code",
   "execution_count": 10,
   "metadata": {},
   "outputs": [],
   "source": [
    "def create_genesis_block():\n",
    "    data = ['rawmaterial_supplier','manufacturer_id','manufacturer_t1','manufacturer_t2','smanufacturer_id','smanufacturer_t1','smanufacturer_t2','warehouse_id','warehouse_t1','warehouse_t2','distributer_id','distributer_t1','distributer_t2','pharmacy_id','pharmacy_t1','pharmacy_t2','prescriber_id','patient_id','zipcode','pharmacy_returntime','distributer_returntime', 'warehouse_returntime']\n",
    "    return Block(0, date.datetime.now(), data, \"0\")\n"
   ]
  },
  {
   "cell_type": "markdown",
   "metadata": {},
   "source": [
    "### Funtion to add a new block"
   ]
  },
  {
   "cell_type": "code",
   "execution_count": 11,
   "metadata": {},
   "outputs": [],
   "source": [
    "def next_block(last_block,data):\n",
    "    \n",
    "    this_index = last_block.index + 1\n",
    "    this_timestamp = date.datetime.now()\n",
    "    #this_data = \"Hey! I'm block \" + str(this_index)\n",
    "    #d = pd.DataFrame([[1,2,3],[2,4,5]])\n",
    "    #d.columns = ['a','b','c']\n",
    "    this_data = data\n",
    "    this_hash = last_block.hash\n",
    "    \n",
    "    return Block(this_index, this_timestamp, this_data, this_hash)"
   ]
  },
  {
   "cell_type": "code",
   "execution_count": 12,
   "metadata": {},
   "outputs": [],
   "source": [
    "# Create the blockchain and add the genesis block\n",
    "blockchain = [create_genesis_block()]\n",
    "previous_block = blockchain[0]\n",
    "\n",
    "# Number of blocks to add\n",
    "num_of_blocks_to_add = 2000\n",
    "\n",
    "# Data Points\n",
    "hashes = []"
   ]
  },
  {
   "cell_type": "markdown",
   "metadata": {},
   "source": [
    "### Function to create data "
   ]
  },
  {
   "cell_type": "code",
   "execution_count": 13,
   "metadata": {},
   "outputs": [],
   "source": [
    "data = ['rawmaterial_supplier','manufacturer_id','manufacturer_t1','manufacturer_t2','smanufacturer_id','smanufacturer_t1','smanufacturer_t2','warehouse_id','warehouse_t1','warehouse_t2','distributer_id','distributer_t1','distributer_t2','pharmacy_id','pharmacy_t1','pharmacy_t2','prescriber_id','patient_id','zipcode','pharmacy_returntime','distributer_returntime', 'warehouse_returntime']\n",
    "supply_chain_data = pd.DataFrame(columns= data)\n",
    "\n",
    "def create_data(supply_chain_data):\n",
    "    s = np.random.normal(2, .25, 2000)\n",
    "    r_id = np.random.normal(10, 1.25, 2000)\n",
    "    d_id = np.random.normal(10, 1.25, 2000)\n",
    "    rp_id = np.random.normal(10, 2, 2000)\n",
    "    pres_id = np.random.normal(100, 10, 2000)\n",
    "\n",
    "    timestamp = date.datetime.now() - timedelta(days=5000)\n",
    "\n",
    "\n",
    "    for i in range(num_of_blocks_to_add):\n",
    "\n",
    "\n",
    "        # Condition for Raw Material Supplier\n",
    "        if r_id[i] < 9:\n",
    "            rawmaterial_supplier = 'raw1'\n",
    "        elif r_id[i] > 11:\n",
    "            rawmaterial_supplier = 'raw3'\n",
    "        else:\n",
    "            rawmaterial_supplier = 'raw2'\n",
    "\n",
    "        # Condition for Primary Manufacturer\n",
    "        if (rawmaterial_supplier == 'raw1' or rawmaterial_supplier == 'raw2'):\n",
    "            manufacturer_id = 'm1'\n",
    "        else:\n",
    "            manufacturer_id = 'm2'\n",
    "\n",
    "        # Secondary Manufacturer and Warehouse\n",
    "        smanufacturer_id = 'sm1'\n",
    "        warehouse_id = 'w1'\n",
    "\n",
    "        # Condition for Distributor\n",
    "        if d_id[i] < 11:\n",
    "            distributer_id = 'd1'\n",
    "        else:\n",
    "            distributer_id = 'd2'\n",
    "\n",
    "        # Condition for Pharmacy\n",
    "        if distributer_id == 'd2':\n",
    "            pharmacy_id = 'hp1'\n",
    "            zipcode = 'zip1'\n",
    "        else:\n",
    "            if rp_id[i] < 9.8:\n",
    "                pharmacy_id = 'rp1'\n",
    "                zipcode = 'zip2'\n",
    "            else:\n",
    "                pharmacy_id = 'rp2'\n",
    "                zipcode = 'zip3'\n",
    "\n",
    "\n",
    "        # Condition for Presciber\n",
    "        if pres_id[i] < 100:\n",
    "            prescriber_id = 'pres1'\n",
    "        elif pres_id[i] >104:\n",
    "            prescriber_id = 'pres2'\n",
    "        else:\n",
    "            prescriber_id = 'pres3'\n",
    "\n",
    "        # Condition for Patient\n",
    "        patient_id = random.randint(1,99)\n",
    "\n",
    "\n",
    "        # Timestamp     \n",
    "        timestamp = timestamp + timedelta(days=s[i])\n",
    "\n",
    "        t2 = np.random.normal(30, 4, 20)\n",
    "        t1 = np.random.normal(10, 2, 20)\n",
    "        t2_1000 = np.random.normal(12, 2, 20)\n",
    "\n",
    "        # Calculating stock and release time for manufacturer\n",
    "        manufacturer_t1 = timestamp + timedelta(days=t1[1])\n",
    "        manufacturer_t2 = manufacturer_t1 + timedelta(days=t2[1])\n",
    "\n",
    "        # Calculating stock and release time for secondary manufacturer\n",
    "        smanufacturer_t1 = manufacturer_t2 + timedelta(days=t1[6])\n",
    "        smanufacturer_t2 = smanufacturer_t1 + timedelta(days=t2[6])\n",
    "\n",
    "        # Calculating stock and release time for warehouse\n",
    "        warehouse_t1 = smanufacturer_t2 + timedelta(days=t1[11])\n",
    "        warehouse_t2 = warehouse_t1 + timedelta(days=t2[1])\n",
    "\n",
    "\n",
    "        if i < 1000:\n",
    "\n",
    "            distributer_t1 = warehouse_t2 + timedelta(days=t1[14])\n",
    "            distributer_t2 = distributer_t1 + timedelta(days=(2 * t1[14]))\n",
    "\n",
    "            pharmacy_t1 = distributer_t2 + timedelta(days=t1[8])\n",
    "            pharmacy_t2 = pharmacy_t1 + timedelta(days=t2[9])\n",
    "\n",
    "        else:\n",
    "            distributer_t1 = warehouse_t2 + timedelta(days=t1[16])\n",
    "            distributer_t2 = distributer_t1 + timedelta(days=t1[16])\n",
    "\n",
    "            pharmacy_t1 = distributer_t2 + timedelta(days=t1[9])\n",
    "            pharmacy_t2 = pharmacy_t1 + timedelta(days=(t2[7]/2))\n",
    "\n",
    "        if i%133 == 0:\n",
    "            patient_id = 0\n",
    "            prescriber_id = ''\n",
    "            zipcode = ''\n",
    "            pharmacy_t2 = None\n",
    "            retailer_returntime = pharmacy_t1 + timedelta(days=100)\n",
    "            distributer_returntime = retailer_returntime + timedelta(days=t2[17])\n",
    "            warehouse_returntime = distributer_returntime + timedelta(days=t2[19])\n",
    "        else:\n",
    "            retailer_returntime = None\n",
    "            distributer_returntime = None\n",
    "            warehouse_returntime = None\n",
    "\n",
    "        supply_chain_data.loc[i] = [rawmaterial_supplier,manufacturer_id,manufacturer_t1,manufacturer_t2,smanufacturer_id,smanufacturer_t1,smanufacturer_t2,warehouse_id,warehouse_t1,warehouse_t2,distributer_id,distributer_t1,distributer_t2,pharmacy_id,pharmacy_t1,pharmacy_t2,prescriber_id,patient_id,zipcode,retailer_returntime,distributer_returntime,warehouse_returntime]\n",
    "    \n",
    "    print (\"Supply Chain Data Created\")\n",
    "    return supply_chain_data"
   ]
  },
  {
   "cell_type": "code",
   "execution_count": 14,
   "metadata": {},
   "outputs": [
    {
     "name": "stdout",
     "output_type": "stream",
     "text": [
      "Supply Chain Data Created\n"
     ]
    }
   ],
   "source": [
    "supply_chain_data = create_data(supply_chain_data)\n",
    "supply_chain_data.to_csv(\"supply_chain_data.csv\",index=False)"
   ]
  },
  {
   "cell_type": "markdown",
   "metadata": {},
   "source": [
    "### Function to add blocks to the blockchain"
   ]
  },
  {
   "cell_type": "code",
   "execution_count": 15,
   "metadata": {},
   "outputs": [
    {
     "name": "stdout",
     "output_type": "stream",
     "text": [
      "Blocks Added\n"
     ]
    }
   ],
   "source": [
    "def add_block(supply_chain_data,previous_block,hashes,num_of_blocks_to_add):\n",
    "    \n",
    "    s = np.random.normal(0.125, .25, num_of_blocks_to_add)\n",
    "    \n",
    "    # Add blocks to the chain\n",
    "    for i in range(0, num_of_blocks_to_add):\n",
    "        block_to_add = next_block(previous_block,supply_chain_data.loc[i])\n",
    "        blockchain.append(block_to_add)\n",
    "        previous_block = block_to_add\n",
    "\n",
    "        hashes.append(block_to_add.hash)\n",
    "\n",
    "        if (s[i]<0):\n",
    "            s[i] = 0.00028 * i\n",
    "        time.sleep(s[i])\n",
    "    print (\"Blocks Added\")\n",
    "    \n",
    "add_block(supply_chain_data,previous_block,hashes,num_of_blocks_to_add)"
   ]
  },
  {
   "cell_type": "markdown",
   "metadata": {},
   "source": [
    "### Creating hash table for security"
   ]
  },
  {
   "cell_type": "code",
   "execution_count": 16,
   "metadata": {
    "scrolled": true
   },
   "outputs": [
    {
     "name": "stdout",
     "output_type": "stream",
     "text": [
      "Hash Table created\n"
     ]
    }
   ],
   "source": [
    "creation_time = [i.timestamp for i in blockchain]\n",
    "block_index = [i.index for i in blockchain]\n",
    "previous_hash = [i.previous_hash for i in blockchain]\n",
    "\n",
    "df1 = pd.DataFrame([block_index,previous_hash,creation_time])\n",
    "df1 = df1.transpose()\n",
    "\n",
    "df1.columns = [\"block_index\",\"previous_hash\",\"creation_time\"]\n",
    "df1.to_csv(\"hash_table.csv\",index=False)\n",
    "print (\"Hash Table created\")"
   ]
  },
  {
   "cell_type": "markdown",
   "metadata": {},
   "source": [
    "### Function to Update a block"
   ]
  },
  {
   "cell_type": "code",
   "execution_count": 31,
   "metadata": {},
   "outputs": [],
   "source": [
    "def block_update(block_id, key, timestamp):\n",
    "    \n",
    "    print (\"Hash Key for 1500 block: \",blockchain[block_id].previous_hash)\n",
    "    \n",
    "    if (blockchain[block_id].previous_hash == key):\n",
    "        blockchain[block_id].timestamp = timestamp\n",
    "        print (\"Block #{} has been updated\".format(block_id))\n",
    "        \n",
    "    else:\n",
    "        print (\"The key did not match\")\n"
   ]
  },
  {
   "cell_type": "code",
   "execution_count": 33,
   "metadata": {},
   "outputs": [
    {
     "name": "stdout",
     "output_type": "stream",
     "text": [
      "('Key from hash table: ', '2acd557f00fd7a3057a0bbb091b0d813845b016be9556b41eaa5072d2066384e')\n",
      "('Hash Key for 1500 block: ', '2acd557f00fd7a3057a0bbb091b0d813845b016be9556b41eaa5072d2066384e')\n",
      "Block #1500 has been updated\n"
     ]
    }
   ],
   "source": [
    "# Reading the hash table before updating\n",
    "hash_table = pd.read_csv(\"hash_table.csv\")\n",
    "\n",
    "#Update the timestamp for 1500th block\n",
    "#Calling the block update function\n",
    "block_id = 1500\n",
    "key = hash_table.previous_hash[1500]\n",
    "timestamp = date.datetime.now() - timedelta(days=2)\n",
    "\n",
    "print (\"Key from hash table: \", key)\n",
    "block_update(block_id, key, timestamp)"
   ]
  },
  {
   "cell_type": "markdown",
   "metadata": {},
   "source": [
    "## Analysis"
   ]
  },
  {
   "cell_type": "code",
   "execution_count": 49,
   "metadata": {},
   "outputs": [],
   "source": [
    "sales_yearly = []\n",
    "count = 0\n",
    "for i in supply_chain_data.pharmacy_t2:\n",
    "    if i:\n",
    "        #print i.date\n",
    "        sales_yearly.append([count, str(i.year)])\n",
    "        count=count+1\n",
    "    else:\n",
    "        sales_yearly.append([count, ''])\n",
    "        count=count+1\n",
    "        \n"
   ]
  },
  {
   "cell_type": "code",
   "execution_count": 54,
   "metadata": {},
   "outputs": [
    {
     "ename": "TypeError",
     "evalue": "cannot perform reduce with flexible type",
     "output_type": "error",
     "traceback": [
      "\u001b[0;31m---------------------------------------------------------------------------\u001b[0m",
      "\u001b[0;31mTypeError\u001b[0m                                 Traceback (most recent call last)",
      "\u001b[0;32m<ipython-input-54-3b8ce9d24af9>\u001b[0m in \u001b[0;36m<module>\u001b[0;34m()\u001b[0m\n\u001b[1;32m      1\u001b[0m \u001b[0;32mimport\u001b[0m \u001b[0mmatplotlib\u001b[0m\u001b[0;34m.\u001b[0m\u001b[0mpyplot\u001b[0m \u001b[0;32mas\u001b[0m \u001b[0mplt\u001b[0m\u001b[0;34m\u001b[0m\u001b[0m\n\u001b[1;32m      2\u001b[0m \u001b[0;31m#sns.set(color_codes=True)\u001b[0m\u001b[0;34m\u001b[0m\u001b[0;34m\u001b[0m\u001b[0m\n\u001b[0;32m----> 3\u001b[0;31m \u001b[0mplt\u001b[0m\u001b[0;34m.\u001b[0m\u001b[0mhist\u001b[0m\u001b[0;34m(\u001b[0m\u001b[0msales_yearly\u001b[0m\u001b[0;34m[\u001b[0m\u001b[0;34m:\u001b[0m\u001b[0;36m1\u001b[0m\u001b[0;34m]\u001b[0m\u001b[0;34m)\u001b[0m\u001b[0;34m\u001b[0m\u001b[0m\n\u001b[0m\u001b[1;32m      4\u001b[0m \u001b[0mplt\u001b[0m\u001b[0;34m.\u001b[0m\u001b[0mshow\u001b[0m\u001b[0;34m(\u001b[0m\u001b[0;34m)\u001b[0m\u001b[0;34m\u001b[0m\u001b[0m\n\u001b[1;32m      5\u001b[0m \u001b[0;31m#supply_chain_data.pharmacy_t2[1000].year\u001b[0m\u001b[0;34m\u001b[0m\u001b[0;34m\u001b[0m\u001b[0m\n",
      "\u001b[0;32m/usr/local/lib/python2.7/dist-packages/matplotlib/pyplot.pyc\u001b[0m in \u001b[0;36mhist\u001b[0;34m(x, bins, range, density, weights, cumulative, bottom, histtype, align, orientation, rwidth, log, color, label, stacked, normed, hold, data, **kwargs)\u001b[0m\n\u001b[1;32m   3002\u001b[0m                       \u001b[0mhisttype\u001b[0m\u001b[0;34m=\u001b[0m\u001b[0mhisttype\u001b[0m\u001b[0;34m,\u001b[0m \u001b[0malign\u001b[0m\u001b[0;34m=\u001b[0m\u001b[0malign\u001b[0m\u001b[0;34m,\u001b[0m \u001b[0morientation\u001b[0m\u001b[0;34m=\u001b[0m\u001b[0morientation\u001b[0m\u001b[0;34m,\u001b[0m\u001b[0;34m\u001b[0m\u001b[0m\n\u001b[1;32m   3003\u001b[0m                       \u001b[0mrwidth\u001b[0m\u001b[0;34m=\u001b[0m\u001b[0mrwidth\u001b[0m\u001b[0;34m,\u001b[0m \u001b[0mlog\u001b[0m\u001b[0;34m=\u001b[0m\u001b[0mlog\u001b[0m\u001b[0;34m,\u001b[0m \u001b[0mcolor\u001b[0m\u001b[0;34m=\u001b[0m\u001b[0mcolor\u001b[0m\u001b[0;34m,\u001b[0m \u001b[0mlabel\u001b[0m\u001b[0;34m=\u001b[0m\u001b[0mlabel\u001b[0m\u001b[0;34m,\u001b[0m\u001b[0;34m\u001b[0m\u001b[0m\n\u001b[0;32m-> 3004\u001b[0;31m                       stacked=stacked, normed=normed, data=data, **kwargs)\n\u001b[0m\u001b[1;32m   3005\u001b[0m     \u001b[0;32mfinally\u001b[0m\u001b[0;34m:\u001b[0m\u001b[0;34m\u001b[0m\u001b[0m\n\u001b[1;32m   3006\u001b[0m         \u001b[0max\u001b[0m\u001b[0;34m.\u001b[0m\u001b[0m_hold\u001b[0m \u001b[0;34m=\u001b[0m \u001b[0mwashold\u001b[0m\u001b[0;34m\u001b[0m\u001b[0m\n",
      "\u001b[0;32m/usr/local/lib/python2.7/dist-packages/matplotlib/__init__.pyc\u001b[0m in \u001b[0;36minner\u001b[0;34m(ax, *args, **kwargs)\u001b[0m\n\u001b[1;32m   1708\u001b[0m                     warnings.warn(msg % (label_namer, func.__name__),\n\u001b[1;32m   1709\u001b[0m                                   RuntimeWarning, stacklevel=2)\n\u001b[0;32m-> 1710\u001b[0;31m             \u001b[0;32mreturn\u001b[0m \u001b[0mfunc\u001b[0m\u001b[0;34m(\u001b[0m\u001b[0max\u001b[0m\u001b[0;34m,\u001b[0m \u001b[0;34m*\u001b[0m\u001b[0margs\u001b[0m\u001b[0;34m,\u001b[0m \u001b[0;34m**\u001b[0m\u001b[0mkwargs\u001b[0m\u001b[0;34m)\u001b[0m\u001b[0;34m\u001b[0m\u001b[0m\n\u001b[0m\u001b[1;32m   1711\u001b[0m         \u001b[0mpre_doc\u001b[0m \u001b[0;34m=\u001b[0m \u001b[0minner\u001b[0m\u001b[0;34m.\u001b[0m\u001b[0m__doc__\u001b[0m\u001b[0;34m\u001b[0m\u001b[0m\n\u001b[1;32m   1712\u001b[0m         \u001b[0;32mif\u001b[0m \u001b[0mpre_doc\u001b[0m \u001b[0;32mis\u001b[0m \u001b[0mNone\u001b[0m\u001b[0;34m:\u001b[0m\u001b[0;34m\u001b[0m\u001b[0m\n",
      "\u001b[0;32m/usr/local/lib/python2.7/dist-packages/matplotlib/axes/_axes.pyc\u001b[0m in \u001b[0;36mhist\u001b[0;34m(***failed resolving arguments***)\u001b[0m\n\u001b[1;32m   6191\u001b[0m             \u001b[0;32mfor\u001b[0m \u001b[0mxi\u001b[0m \u001b[0;32min\u001b[0m \u001b[0mx\u001b[0m\u001b[0;34m:\u001b[0m\u001b[0;34m\u001b[0m\u001b[0m\n\u001b[1;32m   6192\u001b[0m                 \u001b[0;32mif\u001b[0m \u001b[0mlen\u001b[0m\u001b[0;34m(\u001b[0m\u001b[0mxi\u001b[0m\u001b[0;34m)\u001b[0m \u001b[0;34m>\u001b[0m \u001b[0;36m0\u001b[0m\u001b[0;34m:\u001b[0m\u001b[0;34m\u001b[0m\u001b[0m\n\u001b[0;32m-> 6193\u001b[0;31m                     \u001b[0mxmin\u001b[0m \u001b[0;34m=\u001b[0m \u001b[0mmin\u001b[0m\u001b[0;34m(\u001b[0m\u001b[0mxmin\u001b[0m\u001b[0;34m,\u001b[0m \u001b[0mxi\u001b[0m\u001b[0;34m.\u001b[0m\u001b[0mmin\u001b[0m\u001b[0;34m(\u001b[0m\u001b[0;34m)\u001b[0m\u001b[0;34m)\u001b[0m\u001b[0;34m\u001b[0m\u001b[0m\n\u001b[0m\u001b[1;32m   6194\u001b[0m                     \u001b[0mxmax\u001b[0m \u001b[0;34m=\u001b[0m \u001b[0mmax\u001b[0m\u001b[0;34m(\u001b[0m\u001b[0mxmax\u001b[0m\u001b[0;34m,\u001b[0m \u001b[0mxi\u001b[0m\u001b[0;34m.\u001b[0m\u001b[0mmax\u001b[0m\u001b[0;34m(\u001b[0m\u001b[0;34m)\u001b[0m\u001b[0;34m)\u001b[0m\u001b[0;34m\u001b[0m\u001b[0m\n\u001b[1;32m   6195\u001b[0m             \u001b[0mbin_range\u001b[0m \u001b[0;34m=\u001b[0m \u001b[0;34m(\u001b[0m\u001b[0mxmin\u001b[0m\u001b[0;34m,\u001b[0m \u001b[0mxmax\u001b[0m\u001b[0;34m)\u001b[0m\u001b[0;34m\u001b[0m\u001b[0m\n",
      "\u001b[0;32m/usr/local/lib/python2.7/dist-packages/numpy/core/_methods.pyc\u001b[0m in \u001b[0;36m_amin\u001b[0;34m(a, axis, out, keepdims)\u001b[0m\n\u001b[1;32m     27\u001b[0m \u001b[0;34m\u001b[0m\u001b[0m\n\u001b[1;32m     28\u001b[0m \u001b[0;32mdef\u001b[0m \u001b[0m_amin\u001b[0m\u001b[0;34m(\u001b[0m\u001b[0ma\u001b[0m\u001b[0;34m,\u001b[0m \u001b[0maxis\u001b[0m\u001b[0;34m=\u001b[0m\u001b[0mNone\u001b[0m\u001b[0;34m,\u001b[0m \u001b[0mout\u001b[0m\u001b[0;34m=\u001b[0m\u001b[0mNone\u001b[0m\u001b[0;34m,\u001b[0m \u001b[0mkeepdims\u001b[0m\u001b[0;34m=\u001b[0m\u001b[0mFalse\u001b[0m\u001b[0;34m)\u001b[0m\u001b[0;34m:\u001b[0m\u001b[0;34m\u001b[0m\u001b[0m\n\u001b[0;32m---> 29\u001b[0;31m     \u001b[0;32mreturn\u001b[0m \u001b[0mumr_minimum\u001b[0m\u001b[0;34m(\u001b[0m\u001b[0ma\u001b[0m\u001b[0;34m,\u001b[0m \u001b[0maxis\u001b[0m\u001b[0;34m,\u001b[0m \u001b[0mNone\u001b[0m\u001b[0;34m,\u001b[0m \u001b[0mout\u001b[0m\u001b[0;34m,\u001b[0m \u001b[0mkeepdims\u001b[0m\u001b[0;34m)\u001b[0m\u001b[0;34m\u001b[0m\u001b[0m\n\u001b[0m\u001b[1;32m     30\u001b[0m \u001b[0;34m\u001b[0m\u001b[0m\n\u001b[1;32m     31\u001b[0m \u001b[0;32mdef\u001b[0m \u001b[0m_sum\u001b[0m\u001b[0;34m(\u001b[0m\u001b[0ma\u001b[0m\u001b[0;34m,\u001b[0m \u001b[0maxis\u001b[0m\u001b[0;34m=\u001b[0m\u001b[0mNone\u001b[0m\u001b[0;34m,\u001b[0m \u001b[0mdtype\u001b[0m\u001b[0;34m=\u001b[0m\u001b[0mNone\u001b[0m\u001b[0;34m,\u001b[0m \u001b[0mout\u001b[0m\u001b[0;34m=\u001b[0m\u001b[0mNone\u001b[0m\u001b[0;34m,\u001b[0m \u001b[0mkeepdims\u001b[0m\u001b[0;34m=\u001b[0m\u001b[0mFalse\u001b[0m\u001b[0;34m)\u001b[0m\u001b[0;34m:\u001b[0m\u001b[0;34m\u001b[0m\u001b[0m\n",
      "\u001b[0;31mTypeError\u001b[0m: cannot perform reduce with flexible type"
     ]
    }
   ],
   "source": [
    "import matplotlib.pyplot as plt\n",
    "#sns.set(color_codes=True)\n",
    "plt.hist(sales_yearly[:1])\n",
    "plt.show()\n",
    "#supply_chain_data.pharmacy_t2[1000].year\n",
    "#count(sales_yearly[sales_yearly[i]='2004'])"
   ]
  },
  {
   "cell_type": "code",
   "execution_count": 25,
   "metadata": {},
   "outputs": [
    {
     "name": "stdout",
     "output_type": "stream",
     "text": [
      "Data for 1012th block\n",
      "\n",
      "rawmaterial_supplier                            raw2\n",
      "manufacturer_id                                   m1\n",
      "manufacturer_t1           2009-10-23 12:47:13.412781\n",
      "manufacturer_t2           2009-11-25 21:53:47.774749\n",
      "smanufacturer_id                                 sm1\n",
      "smanufacturer_t1          2009-12-04 00:05:09.454538\n",
      "smanufacturer_t2          2010-01-01 05:15:57.344100\n",
      "warehouse_id                                      w1\n",
      "warehouse_t1              2010-01-13 04:19:37.169847\n",
      "warehouse_t2              2010-02-15 13:26:11.531815\n",
      "distributer_id                                    d2\n",
      "distributer_t1            2010-02-25 02:09:30.423126\n",
      "distributer_t2            2010-03-06 14:52:49.314437\n",
      "pharmacy_id                                      hp1\n",
      "pharmacy_t1               2010-03-14 20:51:50.723182\n",
      "pharmacy_t2               2010-03-25 12:26:34.086122\n",
      "prescriber_id                                  pres1\n",
      "patient_id                                        87\n",
      "zipcode                                         zip1\n",
      "pharmacy_returntime                             None\n",
      "distributer_returntime                          None\n",
      "warehouse_returntime                            None\n",
      "Name: 1011, dtype: object\n"
     ]
    }
   ],
   "source": [
    "print (\"Data for 1012th block\\n\")\n",
    "print (blockchain[1012].data)"
   ]
  },
  {
   "cell_type": "code",
   "execution_count": null,
   "metadata": {},
   "outputs": [],
   "source": []
  },
  {
   "cell_type": "code",
   "execution_count": null,
   "metadata": {},
   "outputs": [],
   "source": []
  },
  {
   "cell_type": "code",
   "execution_count": null,
   "metadata": {},
   "outputs": [],
   "source": []
  },
  {
   "cell_type": "code",
   "execution_count": null,
   "metadata": {},
   "outputs": [],
   "source": []
  },
  {
   "cell_type": "code",
   "execution_count": null,
   "metadata": {},
   "outputs": [],
   "source": []
  },
  {
   "cell_type": "code",
   "execution_count": null,
   "metadata": {},
   "outputs": [],
   "source": []
  }
 ],
 "metadata": {
  "kernelspec": {
   "display_name": "Python 2",
   "language": "python",
   "name": "python2"
  },
  "language_info": {
   "codemirror_mode": {
    "name": "ipython",
    "version": 2
   },
   "file_extension": ".py",
   "mimetype": "text/x-python",
   "name": "python",
   "nbconvert_exporter": "python",
   "pygments_lexer": "ipython2",
   "version": "2.7.12"
  }
 },
 "nbformat": 4,
 "nbformat_minor": 2
}
